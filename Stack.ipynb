{
 "cells": [
  {
   "cell_type": "code",
   "execution_count": 2,
   "metadata": {},
   "outputs": [
    {
     "name": "stdin",
     "output_type": "stream",
     "text": [
      "Enter the expression :  )(\n"
     ]
    },
    {
     "name": "stdout",
     "output_type": "stream",
     "text": [
      "[')', '(']\n",
      "1\n",
      "Invalid String\n"
     ]
    }
   ],
   "source": [
    "#Karan Mittal\n",
    "#Program for checking paranthesis\n",
    "#Stack DataStructure----------------------------------------------\n",
    "class Stack:\n",
    "\tdef __init__(self):\n",
    "\t\tself.items = []\n",
    "\tdef push(self, n):\n",
    "\t\tself.items.append(n)\n",
    "\tdef pops(self):\n",
    "\t\treturn self.items.pop()\n",
    "\tdef isEmpty(self):\n",
    "\t\treturn len(self.items) == 0\n",
    "\tdef Length(self):\n",
    "\t\treturn len(self.items)\n",
    "\n",
    "\n",
    "#------------------------------------input from user----------------\n",
    "user_inp = list(input(\"Enter the expression : \"))\n",
    "st = Stack()\n",
    "print(user_inp)\n",
    "\n",
    "\n",
    "#------------------------------------Final Logic-----------------------\n",
    "for i in user_inp:\n",
    "\tif i == r'(':\n",
    "\t\tst.push(i)\n",
    "\telif st.isEmpty() == False and i == r')':\n",
    "\t\tst.pops()\n",
    "\t\tcontinue\n",
    "\telif i == r')':\n",
    "\t\tst.push(i)\n",
    "\t\tprint(st.Length())\n",
    "\t\tbreak\n",
    "\n",
    "if st.isEmpty():\n",
    "\tprint('Valid String')\n",
    "else:\n",
    "\tprint('Invalid String')\n",
    "\n",
    "\n",
    "\n",
    "# st = Stack()\n",
    "# st.items = [1, 3, 2, 4, 5]\n",
    "# print(st.pops(), '\\n',st.items, '\\n',st.isEmpty())\n",
    "\n",
    "\n",
    "\n"
   ]
  },
  {
   "cell_type": "markdown",
   "metadata": {},
   "source": [
    "Program for checing paranthesis and using Stack DataStructure"
   ]
  }
 ],
 "metadata": {
  "kernelspec": {
   "display_name": "Python 3",
   "language": "python",
   "name": "python3"
  },
  "language_info": {
   "codemirror_mode": {
    "name": "ipython",
    "version": 3
   },
   "file_extension": ".py",
   "mimetype": "text/x-python",
   "name": "python",
   "nbconvert_exporter": "python",
   "pygments_lexer": "ipython3",
   "version": "3.7.3"
  }
 },
 "nbformat": 4,
 "nbformat_minor": 4
}
