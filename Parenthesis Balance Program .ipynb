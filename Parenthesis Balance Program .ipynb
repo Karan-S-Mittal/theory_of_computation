{
 "cells": [
  {
   "cell_type": "code",
   "execution_count": 2,
   "metadata": {},
   "outputs": [
    {
     "name": "stdout",
     "output_type": "stream",
     "text": [
      "Enter the expression : ][\n",
      "Expression is Invalid\n"
     ]
    }
   ],
   "source": [
    "#Karan Mittal\n",
    "#It will check wether the input expression has balanced brackets or not\n",
    "\n",
    "#---------------------------Stack DataStructure\n",
    "class Stack:\n",
    "    st = []\n",
    "    def __init__(self):\n",
    "        st = []\n",
    "    def push(self, a):\n",
    "        self.st.append(a)\n",
    "    def pop(self):\n",
    "        if len(self.st):\n",
    "            self.st.pop()\n",
    "    def isEmpty(self):\n",
    "        if len(self.st):\n",
    "            return False\n",
    "        else:\n",
    "            return True\n",
    "    def length(self):\n",
    "        return len(self.st)\n",
    "        \n",
    "        \n",
    "#Check Parameters        \n",
    "openls = ['(', '{', '[']\n",
    "closels = ['(', ')', '{', '}', '[', ']']\n",
    "\n",
    "expression = input(\"Enter the expression : \")\n",
    "checker = Stack()\n",
    "\n",
    "#-----------------Logic-------------------------\n",
    "expression = list(expression)\n",
    "for e in expression:\n",
    "    if e in openls:\n",
    "        checker.push(e)\n",
    "    elif e in closels:\n",
    "        i = closels.index(e)\n",
    "        if checker.isEmpty() == False and checker.st[-1] == closels[i-1]:\n",
    "            checker.pop()\n",
    "        else:\n",
    "            print('Expression is Invalid')\n",
    "            checker.push('TOC')\n",
    "            break\n",
    "\n",
    "#---------------------------------------------------------\n",
    "if checker.isEmpty():\n",
    "    print('Expression is Valid')\n",
    "#-------------------------------------------------------\n",
    "\n"
   ]
  }
 ],
 "metadata": {
  "kernelspec": {
   "display_name": "Python 3",
   "language": "python",
   "name": "python3"
  },
  "language_info": {
   "codemirror_mode": {
    "name": "ipython",
    "version": 3
   },
   "file_extension": ".py",
   "mimetype": "text/x-python",
   "name": "python",
   "nbconvert_exporter": "python",
   "pygments_lexer": "ipython3",
   "version": "3.7.3"
  }
 },
 "nbformat": 4,
 "nbformat_minor": 2
}
