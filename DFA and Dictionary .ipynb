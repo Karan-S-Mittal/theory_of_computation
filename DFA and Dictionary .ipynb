{
 "cells": [
  {
   "cell_type": "code",
   "execution_count": 3,
   "metadata": {},
   "outputs": [
    {
     "name": "stdout",
     "output_type": "stream",
     "text": [
      "{'q0': {'0': 'q1', '1': 'q1'}, 'q1': {'0': 'q1', '1': 'q1'}}\n"
     ]
    }
   ],
   "source": [
    "#Karan Mittal\n",
    "#Program for DFA using Dictionary\n",
    "DFA = {\n",
    "    \"q0\" : { \n",
    "        \"0\" : \"q1\", \n",
    "        \"1\" : \"q1\" },\n",
    "    \"q1\" : {\n",
    "        \"0\" : \"q1\",\n",
    "        \"1\" : \"q1\"\n",
    "    }\n",
    "}\n",
    "print(DFA)"
   ]
  },
  {
   "cell_type": "code",
   "execution_count": 23,
   "metadata": {},
   "outputs": [
    {
     "name": "stdout",
     "output_type": "stream",
     "text": [
      "[{'b': 1}, {}]\n"
     ]
    }
   ],
   "source": [
    "#Printing dict via for loop\n",
    "nstate = ['q1', 'q2']\n",
    "moves = [{} for i in nstate]\n",
    "\n",
    "def add(inp, char, op):\n",
    "    moves[inp][char] = op\n",
    "    \n",
    "add(0, 'b', 1)\n",
    "print(moves)"
   ]
  },
  {
   "cell_type": "code",
   "execution_count": 13,
   "metadata": {},
   "outputs": [
    {
     "name": "stdout",
     "output_type": "stream",
     "text": [
      "{('q0', '0'): 'q1', ('q0', '1'): 'q1'}\n"
     ]
    }
   ],
   "source": [
    "#New Implementation of DFA\n",
    "DFA = dict()\n",
    "DFA[(\"q0\", \"0\")] = \"q1\"\n",
    "DFA[(\"q0\", \"1\")] = \"q1\"\n",
    "print(DFA)"
   ]
  },
  {
   "cell_type": "code",
   "execution_count": 2,
   "metadata": {
    "scrolled": true
   },
   "outputs": [
    {
     "name": "stdout",
     "output_type": "stream",
     "text": [
      "Enter a string : 000\n",
      "Valid\n",
      "Enter a string : 10010\n",
      "Invalid\n",
      "Enter a string : 000100010\n",
      "Valid\n",
      "Enter a string : 11101000\n",
      "Valid\n",
      "Enter a string : 11000000\n",
      "Valid\n"
     ]
    }
   ],
   "source": [
    "#DFA to check three consecutive 0s\n",
    "dfa = {\n",
    "    'q0' : {\n",
    "        '0' : 'q1',\n",
    "        '1' : 'q0'\n",
    "    },\n",
    "    'q1' : {\n",
    "        '0' : 'q2',\n",
    "        '1' : 'q0'\n",
    "    },\n",
    "    'q2' : {\n",
    "        '0' : 'q3',\n",
    "        '1' : 'q0'\n",
    "    },\n",
    "    'q3' : {\n",
    "        '0' : 'q3',\n",
    "        '1' : 'q3'\n",
    "    }\n",
    "}\n",
    "\n",
    "\n",
    "def repeater(user):\n",
    "    Initial_state = 'q1'\n",
    "    Final_state = {'q3'}\n",
    "    user_inp = list(user)\n",
    "    current_state = Initial_state\n",
    "    for i in user_inp:\n",
    "        current_state = dfa[current_state][i]\n",
    "    if current_state in Final_state:\n",
    "        print('Valid')\n",
    "    else:\n",
    "        print('Invalid')\n",
    "\n",
    "for i in range(5):\n",
    "    user_inp = input(\"Enter a string : \").strip()\n",
    "    repeater(user_inp)"
   ]
  },
  {
   "cell_type": "code",
   "execution_count": 4,
   "metadata": {},
   "outputs": [
    {
     "name": "stdout",
     "output_type": "stream",
     "text": [
      "Enetr a valid string :aab\n",
      "Valid\n",
      "Enetr a valid string :ba\n",
      "Invalid\n",
      "Enetr a valid string :aaa\n",
      "Valid\n",
      "Enetr a valid string :aaaaaa\n",
      "Valid\n",
      "Enetr a valid string :babababababb\n",
      "Valid\n"
     ]
    }
   ],
   "source": [
    "#DFA mod3 for length of string\n",
    "dfa = {\n",
    "    'q0' :\n",
    "    {\n",
    "        'a' : 'q1',\n",
    "        'b' : 'q1'\n",
    "    },\n",
    "    'q1' :\n",
    "    {\n",
    "        'a' : 'q2',\n",
    "        'b' : 'q2'\n",
    "    },\n",
    "    'q2' :\n",
    "    {\n",
    "        'a' : 'q0',\n",
    "        'b' : 'q0'\n",
    "    }\n",
    "}\n",
    "\n",
    "Initial_state = 'q0'\n",
    "Final_state = {'q0'}\n",
    "for i in range(5):\n",
    "    current_state = Initial_state\n",
    "    user_inp = list(input(\"Enetr a valid string : \".strip()))\n",
    "\n",
    "    for i in user_inp:\n",
    "        current_state = dfa[current_state][i]\n",
    "\n",
    "    if current_state in Final_state:\n",
    "        print('Valid')\n",
    "    else:\n",
    "        print('Invalid')"
   ]
  },
  {
   "cell_type": "code",
   "execution_count": 5,
   "metadata": {},
   "outputs": [
    {
     "name": "stdout",
     "output_type": "stream",
     "text": [
      "Enter a string : 101\n",
      "Valid\n",
      "Enter a string : 1101\n",
      "Valid\n",
      "Enter a string : 010100\n",
      "Invalid\n",
      "Enter a string : 1011\n",
      "Invalid\n",
      "Enter a string : 000101\n",
      "Valid\n"
     ]
    }
   ],
   "source": [
    "#DFA to accept string ending with 101\n",
    "\n",
    "dfa = {\n",
    "    'q0' : \n",
    "    {\n",
    "        '0' : 'q0',\n",
    "        '1' : 'q1'\n",
    "    },\n",
    "    'q1' :\n",
    "    {\n",
    "        '0' : 'q2',\n",
    "        '1' : 'q1'\n",
    "    },\n",
    "    'q2' : \n",
    "    {\n",
    "        '0' : 'q0',\n",
    "        '1' : 'q3'\n",
    "    },\n",
    "    'q3' : \n",
    "    {\n",
    "        '0' : 'q2',\n",
    "        '1' : 'q1'\n",
    "    }\n",
    "}\n",
    "\n",
    "\n",
    "Initial_state = 'q0'\n",
    "Final_state = {'q3'}\n",
    "\n",
    "for i in range(5):\n",
    "    current_state = Initial_state\n",
    "\n",
    "    user_inp = list(input(\"Enter a string : \").strip())\n",
    "\n",
    "    for i in user_inp:\n",
    "        current_state = dfa[current_state][i]\n",
    "\n",
    "    if current_state in Final_state:\n",
    "        print('Valid')\n",
    "    else:\n",
    "        print('Invalid')"
   ]
  }
 ],
 "metadata": {
  "kernelspec": {
   "display_name": "Python 3",
   "language": "python",
   "name": "python3"
  },
  "language_info": {
   "codemirror_mode": {
    "name": "ipython",
    "version": 3
   },
   "file_extension": ".py",
   "mimetype": "text/x-python",
   "name": "python",
   "nbconvert_exporter": "python",
   "pygments_lexer": "ipython3",
   "version": "3.7.3"
  }
 },
 "nbformat": 4,
 "nbformat_minor": 2
}
