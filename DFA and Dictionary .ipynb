{
 "cells": [
  {
   "cell_type": "code",
   "execution_count": 3,
   "metadata": {},
   "outputs": [
    {
     "name": "stdout",
     "output_type": "stream",
     "text": [
      "{'q0': {'0': 'q1', '1': 'q1'}, 'q1': {'0': 'q1', '1': 'q1'}}\n"
     ]
    }
   ],
   "source": [
    "#Karan Mittal\n",
    "#Program for DFA using Dictionary\n",
    "DFA = {\n",
    "    \"q0\" : { \n",
    "        \"0\" : \"q1\", \n",
    "        \"1\" : \"q1\" },\n",
    "    \"q1\" : {\n",
    "        \"0\" : \"q1\",\n",
    "        \"1\" : \"q1\"\n",
    "    }\n",
    "}\n",
    "print(DFA)"
   ]
  },
  {
   "cell_type": "code",
   "execution_count": 23,
   "metadata": {},
   "outputs": [
    {
     "name": "stdout",
     "output_type": "stream",
     "text": [
      "[{'b': 1}, {}]\n"
     ]
    }
   ],
   "source": [
    "#Printing dict via for loop\n",
    "nstate = ['q1', 'q2']\n",
    "moves = [{} for i in nstate]\n",
    "\n",
    "def add(inp, char, op):\n",
    "    moves[inp][char] = op\n",
    "    \n",
    "add(0, 'b', 1)\n",
    "print(moves)"
   ]
  },
  {
   "cell_type": "code",
   "execution_count": 13,
   "metadata": {},
   "outputs": [
    {
     "name": "stdout",
     "output_type": "stream",
     "text": [
      "{('q0', '0'): 'q1', ('q0', '1'): 'q1'}\n"
     ]
    }
   ],
   "source": [
    "#New Implementation of DFA\n",
    "DFA = dict()\n",
    "DFA[(\"q0\", \"0\")] = \"q1\"\n",
    "DFA[(\"q0\", \"1\")] = \"q1\"\n",
    "print(DFA)"
   ]
  },
  {
   "cell_type": "code",
   "execution_count": null,
   "metadata": {
    "scrolled": true
   },
   "outputs": [],
   "source": [
    "#DFA to check three consecutive 0s\n",
    "dfa = {\n",
    "    'q0' : {\n",
    "        '0' : 'q1',\n",
    "        '1' : 'q0'\n",
    "    },\n",
    "    'q1' : {\n",
    "        '0' : 'q2',\n",
    "        '1' : 'q0'\n",
    "    },\n",
    "    'q2' : {\n",
    "        '0' : 'q3',\n",
    "        '1' : 'q0'\n",
    "    },\n",
    "    'q3' : {\n",
    "        '0' : 'q3',\n",
    "        '1' : 'q3'\n",
    "    }\n",
    "}\n",
    "\n",
    "\n",
    "def repeater(user):\n",
    "    Initial_state = 'q1'\n",
    "    Final_state = {'q3'}\n",
    "    user_inp = list(user)\n",
    "    current_state = Initial_state\n",
    "    for i in user_inp:\n",
    "        current_state = dfa[current_state][i]\n",
    "    if current_state in Final_state:\n",
    "        print('Valid')\n",
    "    else:\n",
    "        print('Invalid')\n",
    "\n",
    "user_inp = input(\"Enter a string : \").strip()\n",
    "for i in range(5):\n",
    "    repeater(user_inp)"
   ]
  },
  {
   "cell_type": "code",
   "execution_count": null,
   "metadata": {},
   "outputs": [],
   "source": []
  }
 ],
 "metadata": {
  "kernelspec": {
   "display_name": "Python 3",
   "language": "python",
   "name": "python3"
  },
  "language_info": {
   "codemirror_mode": {
    "name": "ipython",
    "version": 3
   },
   "file_extension": ".py",
   "mimetype": "text/x-python",
   "name": "python",
   "nbconvert_exporter": "python",
   "pygments_lexer": "ipython3",
   "version": "3.7.3"
  }
 },
 "nbformat": 4,
 "nbformat_minor": 2
}
