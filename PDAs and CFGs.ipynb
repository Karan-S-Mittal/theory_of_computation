{
 "cells": [
  {
   "cell_type": "code",
   "execution_count": 34,
   "metadata": {},
   "outputs": [
    {
     "name": "stdout",
     "output_type": "stream",
     "text": [
      "Enter a's and b's only : abab\n",
      "('q0', 'a', 'z0')\n",
      "('q0', 'push')\n",
      "('q0', 'b', 'a')\n",
      "('q0', 'pop')\n",
      "('q0', 'a', 'z0')\n",
      "('q0', 'push')\n",
      "('q0', 'b', 'a')\n",
      "('q0', 'pop')\n",
      "<bound method stack.topsymbol of <__main__.stack object at 0x0000020B11A11518>> z0\n",
      "q1\n",
      "Accepted\n"
     ]
    }
   ],
   "source": [
    "# PDA for checking wether string has len(a) == len(b)\n",
    "# PDA Implementation using Dictinory \n",
    "class stack():\n",
    "    def __init__(self):\n",
    "        self.st = []\n",
    "    def push(self, x):\n",
    "        self.st.append(x)\n",
    "    def pop(self):\n",
    "        if self.topsymbol() == 'z0':\n",
    "            return 'epsilon'\n",
    "        else:\n",
    "            self.st.pop()\n",
    "    def topsymbol(self):\n",
    "        \"\"\"return topmost value from stack\"\"\"\n",
    "        if self.st == []:\n",
    "            return 'z0'\n",
    "        else:\n",
    "            return self.st[-1]\n",
    "        \n",
    "initial_state = 'q0'\n",
    "final_state = {'q1'}\n",
    "\n",
    "stackpda = stack()\n",
    "pda = {\n",
    "    ('q0', 'a', 'z0'): ('q0', 'push'),\n",
    "    ('q0', 'a', 'a'): ('q0', 'push'),\n",
    "    ('q0', 'b', 'z0'): ('q0', 'push'),\n",
    "    ('q0', 'b', 'b'): ('q0', 'push'),\n",
    "    ('q0', 'a', 'b'): ('q0', 'pop'),\n",
    "    ('q0', 'b', 'a'): ('q0', 'pop'),\n",
    "    ('q0', 'epsilon', 'z0'): ('q1', 'pop')\n",
    "}\n",
    "\n",
    "string = input(\"Enter a's and b's only : \")\n",
    "cur_st = initial_state\n",
    "for i in string:\n",
    "    print((cur_st, i, stackpda.topsymbol()))\n",
    "    print(pda[(cur_st, i, stackpda.topsymbol())])\n",
    "    if pda[(cur_st, i, stackpda.topsymbol())][-1] == 'push':\n",
    "        stackpda.push(i)\n",
    "    else:\n",
    "        stackpda.pop()\n",
    "    cur_st = pda[(cur_st, i, stackpda.topsymbol())][0]\n",
    "\n",
    "if stackpda.topsymbol() == 'z0':\n",
    "    print(stackpda.topsymbol, stackpda.topsymbol())\n",
    "    cur_st = pda[(cur_st, 'epsilon', stackpda.topsymbol())][0]\n",
    "    \n",
    "print(cur_st)\n",
    "if cur_st in final_state:\n",
    "    print('Accepted')\n",
    "else:\n",
    "    print('Rejected')"
   ]
  }
 ],
 "metadata": {
  "kernelspec": {
   "display_name": "Python 3",
   "language": "python",
   "name": "python3"
  },
  "language_info": {
   "codemirror_mode": {
    "name": "ipython",
    "version": 3
   },
   "file_extension": ".py",
   "mimetype": "text/x-python",
   "name": "python",
   "nbconvert_exporter": "python",
   "pygments_lexer": "ipython3",
   "version": "3.7.3"
  }
 },
 "nbformat": 4,
 "nbformat_minor": 2
}
