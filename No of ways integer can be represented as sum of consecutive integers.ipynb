{
 "cells": [
  {
   "cell_type": "code",
   "execution_count": 1,
   "metadata": {},
   "outputs": [
    {
     "name": "stdout",
     "output_type": "stream",
     "text": [
      "Enter a number : 15\n",
      "the number of ways 15 can be summed is 3\n",
      "[1, 2, 3, 4, 5]\n",
      "[4, 5, 6]\n",
      "[7, 8]\n"
     ]
    }
   ],
   "source": [
    "#Updated program\n",
    "#Karan Mittal\n",
    "#Counting number of ways integer can be represented as number of consecutive natural numbers\n",
    "user_inp = int(input(\"Enter a number : \"))\n",
    "\n",
    "no_of_ways = 0 # to count the number of ways\n",
    "Complete_list = []\n",
    "\n",
    "for i in range(1, user_inp + 1):\n",
    "\tcheck_sum = 0 # To check sum of consecutive numbers\n",
    "\tIntermediate_list = []\n",
    "\tfor j in range(i, user_inp):\n",
    "\t\tcheck_sum += j\n",
    "\t\tIntermediate_list.append(j)\n",
    "\t\tif check_sum > user_inp: # if sum > number then break the loop\n",
    "\t\t\tbreak\n",
    "\t\telif check_sum == user_inp:\n",
    "\t\t\tno_of_ways += 1\n",
    "\t\t\tComplete_list += [Intermediate_list] \n",
    "\t\t\tbreak\n",
    "\n",
    "print(f\"the number of ways {user_inp} can be summed is {no_of_ways}\")\n",
    "for i in Complete_list: print(i)\n",
    "\n"
   ]
  }
 ],
 "metadata": {
  "kernelspec": {
   "display_name": "Python 3",
   "language": "python",
   "name": "python3"
  },
  "language_info": {
   "codemirror_mode": {
    "name": "ipython",
    "version": 3
   },
   "file_extension": ".py",
   "mimetype": "text/x-python",
   "name": "python",
   "nbconvert_exporter": "python",
   "pygments_lexer": "ipython3",
   "version": "3.7.3"
  }
 },
 "nbformat": 4,
 "nbformat_minor": 2
}
