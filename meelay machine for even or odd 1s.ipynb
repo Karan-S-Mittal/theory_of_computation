{
 "cells": [
  {
   "cell_type": "code",
   "execution_count": 3,
   "metadata": {},
   "outputs": [
    {
     "name": "stdout",
     "output_type": "stream",
     "text": [
      "Enter a string : 01\n",
      "odd\n",
      "Enter a string : 11\n",
      "even\n",
      "Enter a string : 11001111\n",
      "even\n",
      "Enter a string : 101010\n",
      "odd\n",
      "Enter a string : 01011111\n",
      "even\n"
     ]
    }
   ],
   "source": [
    "#DFA for checking wether 1s are even/ odd in string\n",
    "#Karan Mittal\n",
    "dfa = {\n",
    "    'q0' : {\n",
    "        '0' : ('q0', 'even'),\n",
    "        '1' : ('q1', 'odd')\n",
    "    },\n",
    "    'q1' : {\n",
    "        '0' : ('q1', 'odd'),\n",
    "        '1' : ('q0', 'even')\n",
    "    }\n",
    "}\n",
    "\n",
    "def move(s):\n",
    "    cs = 'q0'\n",
    "    op = 'even'\n",
    "    for i in s:\n",
    "        op = dfa[cs][i][1]\n",
    "        cs = dfa[cs][i][0]\n",
    "    return op\n",
    "\n",
    "for i in range(5):\n",
    "    string = input(\"Enter a string : \")\n",
    "    print(move(string))\n",
    "\n"
   ]
  },
  {
   "cell_type": "code",
   "execution_count": 5,
   "metadata": {},
   "outputs": [
    {
     "name": "stdout",
     "output_type": "stream",
     "text": [
      "Enter a string : 10\n",
      "odd\n",
      "Enter a string : 101\n",
      "even\n",
      "Enter a string : 111\n",
      "odd\n",
      "Enter a string : 1111\n",
      "even\n",
      "Enter a string : 1010101\n",
      "even\n"
     ]
    }
   ],
   "source": [
    "# DFA made using dictionary \n",
    "# Machine gives op even/ odd depending on the number of 1s in string\n",
    "# Karan Mittal\n",
    "\n",
    "dfa = {\n",
    "    'q0' : {\n",
    "        '0' : {'st':'q0', \n",
    "               'op':'even'},\n",
    "        '1' : {'st':'q1', \n",
    "               'op':'odd'}\n",
    "    },\n",
    "    'q1' : {\n",
    "        '0' : {'st':'q1', \n",
    "               'op':'odd'},\n",
    "        '1' : {'st':'q0', \n",
    "               'op':'even'}\n",
    "    }\n",
    "}\n",
    "\n",
    "def move(s):\n",
    "    cs = 'q0'\n",
    "    op = 'even'\n",
    "    for i in s:\n",
    "        op = dfa[cs][i]['op']\n",
    "        cs = dfa[cs][i]['st']\n",
    "    return op\n",
    "\n",
    "for i in range(5):\n",
    "    string = input(\"Enter a string : \")\n",
    "    print(move(string))\n",
    "\n"
   ]
  },
  {
   "cell_type": "code",
   "execution_count": null,
   "metadata": {},
   "outputs": [],
   "source": []
  }
 ],
 "metadata": {
  "kernelspec": {
   "display_name": "Python 3",
   "language": "python",
   "name": "python3"
  },
  "language_info": {
   "codemirror_mode": {
    "name": "ipython",
    "version": 3
   },
   "file_extension": ".py",
   "mimetype": "text/x-python",
   "name": "python",
   "nbconvert_exporter": "python",
   "pygments_lexer": "ipython3",
   "version": "3.7.3"
  }
 },
 "nbformat": 4,
 "nbformat_minor": 2
}
