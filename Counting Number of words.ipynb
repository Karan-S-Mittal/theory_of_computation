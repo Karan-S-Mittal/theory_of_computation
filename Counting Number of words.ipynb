{
 "cells": [
  {
   "cell_type": "code",
   "execution_count": null,
   "metadata": {},
   "outputs": [],
   "source": [
    "#Counting the number of words in string\n",
    "import re #regular expressions\n",
    "\n",
    "st = input('Enter a string/sentence about yourself : ')\n",
    "c = 0\n",
    "#Counting words\n",
    "for words in st.split():\n",
    "    c += 1\n",
    "print('No. of Words : ', c)\n",
    "\n",
    "#counting special charachters\n",
    "spchar = re.findall(r'[^\\d\\w]', st)\n",
    "if len(spchar):\n",
    "    print('This is No. of charachters in string : ', len(spchar))\n",
    "else:\n",
    "    print('There are no special charachters')\n",
    "#counting spaces\n",
    "spaces = re.findall(r' ', st)\n",
    "if len(spaces):\n",
    "    print('This is number of spaces in string : ', len(spaces))\n",
    "else:\n",
    "    print('no spaces in this string')"
   ]
  }
 ],
 "metadata": {
  "kernelspec": {
   "display_name": "Python 3",
   "language": "python",
   "name": "python3"
  },
  "language_info": {
   "codemirror_mode": {
    "name": "ipython",
    "version": 3
   },
   "file_extension": ".py",
   "mimetype": "text/x-python",
   "name": "python",
   "nbconvert_exporter": "python",
   "pygments_lexer": "ipython3",
   "version": "3.7.3"
  }
 },
 "nbformat": 4,
 "nbformat_minor": 2
}
