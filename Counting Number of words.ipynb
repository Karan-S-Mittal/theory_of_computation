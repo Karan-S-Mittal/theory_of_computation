{
 "cells": [
  {
   "cell_type": "code",
   "execution_count": 25,
   "metadata": {},
   "outputs": [
    {
     "name": "stdout",
     "output_type": "stream",
     "text": [
      "Enter a string/sentence about yourself : sdkcn 2e3 ## sldskn\n",
      "No. of Words :  4\n",
      "This is No. of special charachters in string :  2\n",
      "This is number of spaces in string :  3\n"
     ]
    }
   ],
   "source": [
    "#Counting the number of words in string\n",
    "import re #regular expressions\n",
    "\n",
    "st = input('Enter a string/sentence about yourself : ')\n",
    "c = 0\n",
    "#Counting words\n",
    "for words in st.split():\n",
    "    c += 1\n",
    "print('No. of Words : ', c)\n",
    "\n",
    "#counting special charachters\n",
    "spchar = re.findall(r'[^\\d\\w^\\s]', st)\n",
    "if len(spchar):\n",
    "    print('This is No. of special charachters in string : ', len(spchar))\n",
    "else:\n",
    "    print('There are no special charachters')\n",
    "    \n",
    "    \n",
    "#counting spaces\n",
    "spaces = re.findall(r' ', st)\n",
    "if len(spaces):\n",
    "    print('This is number of spaces in string : ', len(spaces))\n",
    "else:\n",
    "    print('no spaces in this string')"
   ]
  },
  {
   "cell_type": "code",
   "execution_count": 27,
   "metadata": {},
   "outputs": [
    {
     "name": "stdout",
     "output_type": "stream",
     "text": [
      "Enter name of a text file : text.txt\n"
     ]
    },
    {
     "ename": "FileNotFoundError",
     "evalue": "[Errno 2] No such file or directory: 'text.txt'",
     "output_type": "error",
     "traceback": [
      "\u001b[1;31m---------------------------------------------------------------------------\u001b[0m",
      "\u001b[1;31mFileNotFoundError\u001b[0m                         Traceback (most recent call last)",
      "\u001b[1;32m<ipython-input-27-6db423b2c48c>\u001b[0m in \u001b[0;36m<module>\u001b[1;34m\u001b[0m\n\u001b[0;32m      3\u001b[0m \u001b[1;33m\u001b[0m\u001b[0m\n\u001b[0;32m      4\u001b[0m \u001b[0mst\u001b[0m \u001b[1;33m=\u001b[0m \u001b[0minput\u001b[0m\u001b[1;33m(\u001b[0m\u001b[1;34m'Enter name of a text file : '\u001b[0m\u001b[1;33m)\u001b[0m\u001b[1;33m\u001b[0m\u001b[1;33m\u001b[0m\u001b[0m\n\u001b[1;32m----> 5\u001b[1;33m \u001b[0mfi\u001b[0m \u001b[1;33m=\u001b[0m \u001b[0mopen\u001b[0m\u001b[1;33m(\u001b[0m\u001b[0mst\u001b[0m\u001b[1;33m,\u001b[0m \u001b[1;34m'r'\u001b[0m\u001b[1;33m)\u001b[0m\u001b[1;33m\u001b[0m\u001b[1;33m\u001b[0m\u001b[0m\n\u001b[0m\u001b[0;32m      6\u001b[0m \u001b[0mc\u001b[0m \u001b[1;33m=\u001b[0m \u001b[1;36m0\u001b[0m\u001b[1;33m\u001b[0m\u001b[1;33m\u001b[0m\u001b[0m\n\u001b[0;32m      7\u001b[0m \u001b[1;31m#Counting words\u001b[0m\u001b[1;33m\u001b[0m\u001b[1;33m\u001b[0m\u001b[1;33m\u001b[0m\u001b[0m\n",
      "\u001b[1;31mFileNotFoundError\u001b[0m: [Errno 2] No such file or directory: 'text.txt'"
     ]
    }
   ],
   "source": [
    "#Counting the number of words from a text file\n",
    "import re #regular expressions\n",
    "\n",
    "st = input('Enter name of a text file : ')\n",
    "fi = open(st, 'r')\n",
    "c = 0\n",
    "#Counting words\n",
    "for words in st.split():\n",
    "    c += 1\n",
    "print('No. of Words : ', c)\n",
    "\n",
    "#counting special charachters\n",
    "spchar = re.findall(r'[^\\d\\w^\\s]', st)\n",
    "if len(spchar):\n",
    "    print('This is No. of special charachters in string : ', len(spchar))\n",
    "else:\n",
    "    print('There are no special charachters')\n",
    "    \n",
    "    \n",
    "#counting spaces\n",
    "spaces = re.findall(r' ', st)\n",
    "if len(spaces):\n",
    "    print('This is number of spaces in string : ', len(spaces))\n",
    "else:\n",
    "    print('no spaces in this string')"
   ]
  }
 ],
 "metadata": {
  "kernelspec": {
   "display_name": "Python 3",
   "language": "python",
   "name": "python3"
  },
  "language_info": {
   "codemirror_mode": {
    "name": "ipython",
    "version": 3
   },
   "file_extension": ".py",
   "mimetype": "text/x-python",
   "name": "python",
   "nbconvert_exporter": "python",
   "pygments_lexer": "ipython3",
   "version": "3.7.3"
  }
 },
 "nbformat": 4,
 "nbformat_minor": 2
}
