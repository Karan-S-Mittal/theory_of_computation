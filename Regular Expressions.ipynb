{
 "cells": [
  {
   "cell_type": "code",
   "execution_count": 19,
   "metadata": {
    "scrolled": true
   },
   "outputs": [
    {
     "name": "stdout",
     "output_type": "stream",
     "text": [
      "Enter a string of a === aaaa\n",
      "Accepted\n",
      "Enter a string of a === aa\n",
      "Accepted\n",
      "Enter a string of a === a\n",
      "Rejected\n",
      "Enter a string of a === aaaaaa\n",
      "Accepted\n",
      "Enter a string of a === aaaaa\n",
      "Rejected\n"
     ]
    }
   ],
   "source": [
    "#Re for accepting even number of a's \n",
    "\n",
    "import re\n",
    "for i in range(5):\n",
    "    txt = input('Enter a string of a === ')\n",
    "    if re.search(r'^(aa)*$', txt) != None:\n",
    "        print('Accepted')\n",
    "    else:\n",
    "        print('Rejected')"
   ]
  },
  {
   "cell_type": "code",
   "execution_count": 2,
   "metadata": {},
   "outputs": [
    {
     "name": "stdout",
     "output_type": "stream",
     "text": [
      "3402\n",
      "No match\n",
      "2048\n",
      "Yes, there is at least one match!\n",
      "1024\n",
      "Yes, there is at least one match!\n"
     ]
    }
   ],
   "source": [
    "# Check wether a number is binary or not\n",
    "\n",
    "import re\n",
    "\n",
    "def checkpower():\n",
    "    x = bin(int(input()))\n",
    "    str1= x[2::]\n",
    "\n",
    "    x=re.search(\"^1[0]*$\",str1)\n",
    "    if (x):\n",
    "      print(\"Yes, there is at least one match!\")\n",
    "    else:\n",
    "      print(\"No match\")\n",
    "\n",
    "for _ in range(3):\n",
    "    checkpower()"
   ]
  },
  {
   "cell_type": "code",
   "execution_count": null,
   "metadata": {},
   "outputs": [],
   "source": []
  }
 ],
 "metadata": {
  "kernelspec": {
   "display_name": "Python 3",
   "language": "python",
   "name": "python3"
  },
  "language_info": {
   "codemirror_mode": {
    "name": "ipython",
    "version": 3
   },
   "file_extension": ".py",
   "mimetype": "text/x-python",
   "name": "python",
   "nbconvert_exporter": "python",
   "pygments_lexer": "ipython3",
   "version": "3.7.3"
  }
 },
 "nbformat": 4,
 "nbformat_minor": 2
}
