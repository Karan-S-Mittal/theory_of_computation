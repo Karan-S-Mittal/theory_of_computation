{
 "cells": [
  {
   "cell_type": "code",
   "execution_count": 15,
   "metadata": {},
   "outputs": [
    {
     "name": "stdout",
     "output_type": "stream",
     "text": [
      "[23, 20]\n",
      "length of string 2\n",
      "[13, 23, 20]\n",
      "show back\n",
      "[20, 23, 13]\n",
      "[13, 23, 20]\n",
      "[13, 23]\n",
      "[23]\n",
      "length of string 1\n",
      "Not Empty\n",
      "Empty\n",
      "0\n"
     ]
    }
   ],
   "source": [
    "#Queue DataStructure\n",
    "#Karan Mittal\n",
    "class DQueue():\n",
    "    queue = []\n",
    "    \n",
    "    #Element insertion and deletion\n",
    "    def insertF(self, a):\n",
    "        self.queue.insert(0, a)\n",
    "        return self.queue\n",
    "    def insert(self, a):\n",
    "        self.queue.append(a)\n",
    "    def deleteF(self):\n",
    "        if len(self.queue):\n",
    "            self.queue.pop(0)\n",
    "    def delete(self):\n",
    "        if len(self.queue):\n",
    "            self.queue.pop()\n",
    "    \n",
    "    #Elements display\n",
    "    def show(self):\n",
    "        print(self.queue)\n",
    "    def showback(self):\n",
    "        ls = []\n",
    "        ls = self.queue + ls\n",
    "        ls.reverse()\n",
    "        print(ls)\n",
    "    \n",
    "    #Check empty\n",
    "    def isEmpty(self):\n",
    "        if len(self.queue):\n",
    "            print('Not Empty')\n",
    "        else:\n",
    "            print('Empty')\n",
    "    \n",
    "    #Length of Queue\n",
    "    def length(self):\n",
    "        return len(self.queue)\n",
    "\n",
    "#Queue object\n",
    "q = DQueue()\n",
    "q.insert(23)\n",
    "q.insert(20)\n",
    "q.show()\n",
    "print('length of string',q.length())\n",
    "q.insertF(13)\n",
    "q.show()\n",
    "print('show back')\n",
    "q.showback()\n",
    "q.show()\n",
    "q.delete()\n",
    "q.show()\n",
    "q.deleteF()\n",
    "q.show()\n",
    "print('length of string',q.length())\n",
    "#-----------------------------------------Empty\n",
    "q.isEmpty()\n",
    "q.length()\n",
    "q.delete()\n",
    "q.isEmpty()\n",
    "\n",
    "#------------------------------------------Length\n",
    "print(q.length())"
   ]
  }
 ],
 "metadata": {
  "kernelspec": {
   "display_name": "Python 3",
   "language": "python",
   "name": "python3"
  },
  "language_info": {
   "codemirror_mode": {
    "name": "ipython",
    "version": 3
   },
   "file_extension": ".py",
   "mimetype": "text/x-python",
   "name": "python",
   "nbconvert_exporter": "python",
   "pygments_lexer": "ipython3",
   "version": "3.7.3"
  }
 },
 "nbformat": 4,
 "nbformat_minor": 2
}
