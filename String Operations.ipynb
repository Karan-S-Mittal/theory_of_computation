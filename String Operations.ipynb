{
 "cells": [
  {
   "cell_type": "code",
   "execution_count": 1,
   "metadata": {},
   "outputs": [
    {
     "name": "stdout",
     "output_type": "stream",
     "text": [
      "Enter a String : hello i am karan\n",
      "HELLO I AM KARAN\n",
      "hello i am karan\n",
      "Enter another String : i like programming in python\n",
      "concatenated string :  hello i am karani like programming in python\n",
      "we will strip the white spaces of string :  i like programming in python\n"
     ]
    }
   ],
   "source": [
    "#Basic String Operations\n",
    "st = input(\"Enter a String : \")\n",
    "\n",
    "#Printing Upper Case\n",
    "print(st.upper())\n",
    "\n",
    "#Printing Lower Case\n",
    "print(st.lower())\n",
    "\n",
    "#Concatenation\n",
    "st2 = input(\"Enter another String : \")\n",
    "print('concatenated string : ', st + st2)\n",
    "\n",
    "#Stripping white spaces\n",
    "print('we will strip the white spaces of string : ', st2.strip())"
   ]
  },
  {
   "cell_type": "code",
   "execution_count": null,
   "metadata": {},
   "outputs": [],
   "source": []
  }
 ],
 "metadata": {
  "kernelspec": {
   "display_name": "Python 3",
   "language": "python",
   "name": "python3"
  },
  "language_info": {
   "codemirror_mode": {
    "name": "ipython",
    "version": 3
   },
   "file_extension": ".py",
   "mimetype": "text/x-python",
   "name": "python",
   "nbconvert_exporter": "python",
   "pygments_lexer": "ipython3",
   "version": "3.7.3"
  }
 },
 "nbformat": 4,
 "nbformat_minor": 2
}
